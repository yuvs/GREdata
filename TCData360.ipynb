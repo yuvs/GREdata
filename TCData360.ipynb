{
 "cells": [
  {
   "cell_type": "code",
   "execution_count": 2,
   "metadata": {},
   "outputs": [],
   "source": [
    "import json\n",
    "import os\n",
    "from pandas.io.json import json_normalize"
   ]
  },
  {
   "cell_type": "markdown",
   "metadata": {},
   "source": [
    "tc360_api_base = 'https://tcdata360-backend.worldbank.org/api/v1/'"
   ]
  },
  {
   "cell_type": "markdown",
   "metadata": {},
   "source": [
    "tc360_datasets = 'datasets'\n",
    "tc360_indicators = 'indicators'\n",
    "tc360_countries = 'countries'"
   ]
  },
  {
   "cell_type": "code",
   "execution_count": 3,
   "metadata": {},
   "outputs": [
    {
     "name": "stdout",
     "output_type": "stream",
     "text": [
      "/Users/yuvraj.sidhu/Documents/code/wbdata\n"
     ]
    }
   ],
   "source": [
    "cwd = os.getcwd()\n",
    "print(cwd)"
   ]
  },
  {
   "cell_type": "code",
   "execution_count": 4,
   "metadata": {},
   "outputs": [
    {
     "name": "stdout",
     "output_type": "stream",
     "text": [
      "/Users/yuvraj.sidhu/Documents/code/wbdata/datasets.json\n"
     ]
    }
   ],
   "source": [
    "datafile = os.path.join(cwd, 'datasets.json')\n",
    "print(datafile)"
   ]
  },
  {
   "cell_type": "code",
   "execution_count": 5,
   "metadata": {},
   "outputs": [],
   "source": [
    "with open(datafile) as data_file:\n",
    "    data = json.load(data_file)"
   ]
  },
  {
   "cell_type": "markdown",
   "metadata": {},
   "source": [
    "since it's a nested json file we need to flatten it with json_normalize"
   ]
  },
  {
   "cell_type": "code",
   "execution_count": 6,
   "metadata": {},
   "outputs": [],
   "source": [
    "data_flat = json_normalize(data)"
   ]
  },
  {
   "cell_type": "code",
   "execution_count": 7,
   "metadata": {},
   "outputs": [
    {
     "data": {
      "text/plain": [
       "(93, 7)"
      ]
     },
     "execution_count": 7,
     "metadata": {},
     "output_type": "execute_result"
    }
   ],
   "source": [
    "data_flat.shape"
   ]
  },
  {
   "cell_type": "code",
   "execution_count": 8,
   "metadata": {},
   "outputs": [
    {
     "data": {
      "text/html": [
       "<div>\n",
       "<style scoped>\n",
       "    .dataframe tbody tr th:only-of-type {\n",
       "        vertical-align: middle;\n",
       "    }\n",
       "\n",
       "    .dataframe tbody tr th {\n",
       "        vertical-align: top;\n",
       "    }\n",
       "\n",
       "    .dataframe thead th {\n",
       "        text-align: right;\n",
       "    }\n",
       "</style>\n",
       "<table border=\"1\" class=\"dataframe\">\n",
       "  <thead>\n",
       "    <tr style=\"text-align: right;\">\n",
       "      <th></th>\n",
       "      <th>description</th>\n",
       "      <th>id</th>\n",
       "      <th>legal</th>\n",
       "      <th>link</th>\n",
       "      <th>slug</th>\n",
       "      <th>source</th>\n",
       "      <th>title</th>\n",
       "    </tr>\n",
       "  </thead>\n",
       "  <tbody>\n",
       "    <tr>\n",
       "      <th>0</th>\n",
       "      <td></td>\n",
       "      <td>919</td>\n",
       "      <td>For use guidelines, please consult ArabBaromet...</td>\n",
       "      <td>http://www.arabbarometer.org/instruments-and-d...</td>\n",
       "      <td>ARAB</td>\n",
       "      <td>ArabBarometer</td>\n",
       "      <td>ArabBarometer</td>\n",
       "    </tr>\n",
       "    <tr>\n",
       "      <th>1</th>\n",
       "      <td>I-TIP Goods provides comprehensive information...</td>\n",
       "      <td>44</td>\n",
       "      <td>For use guidelines, please consult World Trade...</td>\n",
       "      <td>https://i-tip.wto.org/goods</td>\n",
       "      <td>itip_goods</td>\n",
       "      <td>WTO I-TIP Goods</td>\n",
       "      <td>I-TIP Goods</td>\n",
       "    </tr>\n",
       "    <tr>\n",
       "      <th>2</th>\n",
       "      <td>The Temporary Trade Barriers Database (TTBD) w...</td>\n",
       "      <td>64</td>\n",
       "      <td>For use guidelines, please consult World Bank ...</td>\n",
       "      <td>http://econ.worldbank.org/ttbd/</td>\n",
       "      <td>temporary_trade_barriers</td>\n",
       "      <td>WBG - Temporary Trade Barriers</td>\n",
       "      <td>Temporary Trade Barriers Database</td>\n",
       "    </tr>\n",
       "    <tr>\n",
       "      <th>3</th>\n",
       "      <td>For much of human history, most individuals ha...</td>\n",
       "      <td>54</td>\n",
       "      <td>For use guidelines, please consult Heritage In...</td>\n",
       "      <td>http://www.heritage.org/index/download</td>\n",
       "      <td>heritage_index_of_economic_freedom</td>\n",
       "      <td>Heritage Index of Economic Freedom</td>\n",
       "      <td>Heritage Index of Economic Freedom</td>\n",
       "    </tr>\n",
       "    <tr>\n",
       "      <th>4</th>\n",
       "      <td>PEFA was established as a means to reduce the ...</td>\n",
       "      <td>590</td>\n",
       "      <td>For use guidelines, please consult World Bank ...</td>\n",
       "      <td>https://pefa.org/assessments/listing</td>\n",
       "      <td>PEFA</td>\n",
       "      <td>Public Expenditure Financial Accontability (PEFA)</td>\n",
       "      <td>Public Expenditure Financial Accontability</td>\n",
       "    </tr>\n",
       "  </tbody>\n",
       "</table>\n",
       "</div>"
      ],
      "text/plain": [
       "                                         description   id  \\\n",
       "0                                                     919   \n",
       "1  I-TIP Goods provides comprehensive information...   44   \n",
       "2  The Temporary Trade Barriers Database (TTBD) w...   64   \n",
       "3  For much of human history, most individuals ha...   54   \n",
       "4  PEFA was established as a means to reduce the ...  590   \n",
       "\n",
       "                                               legal  \\\n",
       "0  For use guidelines, please consult ArabBaromet...   \n",
       "1  For use guidelines, please consult World Trade...   \n",
       "2  For use guidelines, please consult World Bank ...   \n",
       "3  For use guidelines, please consult Heritage In...   \n",
       "4  For use guidelines, please consult World Bank ...   \n",
       "\n",
       "                                                link  \\\n",
       "0  http://www.arabbarometer.org/instruments-and-d...   \n",
       "1                        https://i-tip.wto.org/goods   \n",
       "2                    http://econ.worldbank.org/ttbd/   \n",
       "3             http://www.heritage.org/index/download   \n",
       "4               https://pefa.org/assessments/listing   \n",
       "\n",
       "                                 slug  \\\n",
       "0                                ARAB   \n",
       "1                          itip_goods   \n",
       "2            temporary_trade_barriers   \n",
       "3  heritage_index_of_economic_freedom   \n",
       "4                                PEFA   \n",
       "\n",
       "                                              source  \\\n",
       "0                                      ArabBarometer   \n",
       "1                                    WTO I-TIP Goods   \n",
       "2                     WBG - Temporary Trade Barriers   \n",
       "3                 Heritage Index of Economic Freedom   \n",
       "4  Public Expenditure Financial Accontability (PEFA)   \n",
       "\n",
       "                                        title  \n",
       "0                               ArabBarometer  \n",
       "1                                 I-TIP Goods  \n",
       "2           Temporary Trade Barriers Database  \n",
       "3          Heritage Index of Economic Freedom  \n",
       "4  Public Expenditure Financial Accontability  "
      ]
     },
     "execution_count": 8,
     "metadata": {},
     "output_type": "execute_result"
    }
   ],
   "source": [
    "data_flat[:5]"
   ]
  },
  {
   "cell_type": "code",
   "execution_count": 26,
   "metadata": {},
   "outputs": [],
   "source": [
    "data_flat.to_csv('datasets.csv', encoding='utf-8', index=False)"
   ]
  },
  {
   "cell_type": "code",
   "execution_count": 9,
   "metadata": {},
   "outputs": [],
   "source": [
    "datafile = os.path.join(cwd, 'indicators.json')\n",
    "with open(datafile) as data_file:\n",
    "    data = json.load(data_file)"
   ]
  },
  {
   "cell_type": "code",
   "execution_count": 10,
   "metadata": {},
   "outputs": [
    {
     "data": {
      "text/html": [
       "<div>\n",
       "<style scoped>\n",
       "    .dataframe tbody tr th:only-of-type {\n",
       "        vertical-align: middle;\n",
       "    }\n",
       "\n",
       "    .dataframe tbody tr th {\n",
       "        vertical-align: top;\n",
       "    }\n",
       "\n",
       "    .dataframe thead th {\n",
       "        text-align: right;\n",
       "    }\n",
       "</style>\n",
       "<table border=\"1\" class=\"dataframe\">\n",
       "  <thead>\n",
       "    <tr style=\"text-align: right;\">\n",
       "      <th></th>\n",
       "      <th>byPartner</th>\n",
       "      <th>byProduct</th>\n",
       "      <th>dataset</th>\n",
       "      <th>datasetId</th>\n",
       "      <th>datasetLink</th>\n",
       "      <th>dateRange</th>\n",
       "      <th>defaultViz</th>\n",
       "      <th>definition</th>\n",
       "      <th>doNotUseViz</th>\n",
       "      <th>id</th>\n",
       "      <th>name</th>\n",
       "      <th>periodicity</th>\n",
       "      <th>rank</th>\n",
       "      <th>subindicatorType</th>\n",
       "      <th>timeframes</th>\n",
       "      <th>units</th>\n",
       "      <th>valueType</th>\n",
       "    </tr>\n",
       "  </thead>\n",
       "  <tbody>\n",
       "    <tr>\n",
       "      <th>0</th>\n",
       "      <td>False</td>\n",
       "      <td>False</td>\n",
       "      <td>Doing Business</td>\n",
       "      <td>52</td>\n",
       "      <td>http://www.doingbusiness.org/</td>\n",
       "      <td>2015-2017</td>\n",
       "      <td>line_chart</td>\n",
       "      <td>This reflects the global distance to frontier ...</td>\n",
       "      <td>[spider_chart, slope_graph, chord_diagram]</td>\n",
       "      <td>40001</td>\n",
       "      <td>Ease of Doing Business Global DTF (DB17-18 met...</td>\n",
       "      <td>annually</td>\n",
       "      <td>1.001</td>\n",
       "      <td>Distance to Frontier</td>\n",
       "      <td>[2015, 2016, 2017]</td>\n",
       "      <td>Distance to Frontier</td>\n",
       "      <td>dtf</td>\n",
       "    </tr>\n",
       "    <tr>\n",
       "      <th>1</th>\n",
       "      <td>False</td>\n",
       "      <td>False</td>\n",
       "      <td>World Development Indicators</td>\n",
       "      <td>56</td>\n",
       "      <td>http://data.worldbank.org/data-catalog/world-d...</td>\n",
       "      <td>1970-2016</td>\n",
       "      <td>line_chart</td>\n",
       "      <td>Foreign direct investment are the net inflows ...</td>\n",
       "      <td>[spider_chart, slope_graph, chord_diagram]</td>\n",
       "      <td>1541</td>\n",
       "      <td>Foreign direct investment, net inflows (% of GDP)</td>\n",
       "      <td>annually</td>\n",
       "      <td>1.001</td>\n",
       "      <td>Value</td>\n",
       "      <td>[2016, 2015, 2014, 2013, 2012, 2011, 2010, 200...</td>\n",
       "      <td>% of GDP</td>\n",
       "      <td>value</td>\n",
       "    </tr>\n",
       "    <tr>\n",
       "      <th>2</th>\n",
       "      <td>False</td>\n",
       "      <td>False</td>\n",
       "      <td>World Economic Forum Global Competitiveness Index</td>\n",
       "      <td>53</td>\n",
       "      <td>http://reports.weforum.org/global-competitiven...</td>\n",
       "      <td>2007-2017</td>\n",
       "      <td>line_chart</td>\n",
       "      <td>In your country, how easy is it for entreprene...</td>\n",
       "      <td>[spider_chart, slope_graph, chord_diagram]</td>\n",
       "      <td>529</td>\n",
       "      <td>Venture capital availability, 1-7 (best)</td>\n",
       "      <td>annually</td>\n",
       "      <td>1.001</td>\n",
       "      <td>Index 1-7 (best)</td>\n",
       "      <td>[2007-2008, 2008-2009, 2009-2010, 2010-2011, 2...</td>\n",
       "      <td>Index 1-7 (best)</td>\n",
       "      <td>value</td>\n",
       "    </tr>\n",
       "    <tr>\n",
       "      <th>3</th>\n",
       "      <td>False</td>\n",
       "      <td>False</td>\n",
       "      <td>World Development Indicators</td>\n",
       "      <td>56</td>\n",
       "      <td>http://data.worldbank.org/data-catalog/world-d...</td>\n",
       "      <td>1960-2016</td>\n",
       "      <td>line_chart</td>\n",
       "      <td>Imports of goods and services represent the va...</td>\n",
       "      <td>[spider_chart, slope_graph, chord_diagram]</td>\n",
       "      <td>1026</td>\n",
       "      <td>Imports of goods and services (current US$)</td>\n",
       "      <td>annually</td>\n",
       "      <td>1.001</td>\n",
       "      <td>Value</td>\n",
       "      <td>[2016, 2015, 2014, 2013, 2012, 2011, 2010, 200...</td>\n",
       "      <td>Current US$</td>\n",
       "      <td>value</td>\n",
       "    </tr>\n",
       "    <tr>\n",
       "      <th>4</th>\n",
       "      <td>False</td>\n",
       "      <td>False</td>\n",
       "      <td>World Development Indicators</td>\n",
       "      <td>56</td>\n",
       "      <td>http://data.worldbank.org/data-catalog/world-d...</td>\n",
       "      <td>1961-2016</td>\n",
       "      <td>line_chart</td>\n",
       "      <td>Annual percentage growth rate of GDP at market...</td>\n",
       "      <td>[spider_chart, slope_graph, chord_diagram]</td>\n",
       "      <td>940</td>\n",
       "      <td>GDP growth (annual %)</td>\n",
       "      <td>annually</td>\n",
       "      <td>1.001</td>\n",
       "      <td>Value</td>\n",
       "      <td>[2016, 2015, 2014, 2013, 2012, 2011, 2010, 200...</td>\n",
       "      <td>Annual %</td>\n",
       "      <td>value</td>\n",
       "    </tr>\n",
       "  </tbody>\n",
       "</table>\n",
       "</div>"
      ],
      "text/plain": [
       "   byPartner  byProduct                                            dataset  \\\n",
       "0      False      False                                     Doing Business   \n",
       "1      False      False                       World Development Indicators   \n",
       "2      False      False  World Economic Forum Global Competitiveness Index   \n",
       "3      False      False                       World Development Indicators   \n",
       "4      False      False                       World Development Indicators   \n",
       "\n",
       "   datasetId                                        datasetLink  dateRange  \\\n",
       "0         52                      http://www.doingbusiness.org/  2015-2017   \n",
       "1         56  http://data.worldbank.org/data-catalog/world-d...  1970-2016   \n",
       "2         53  http://reports.weforum.org/global-competitiven...  2007-2017   \n",
       "3         56  http://data.worldbank.org/data-catalog/world-d...  1960-2016   \n",
       "4         56  http://data.worldbank.org/data-catalog/world-d...  1961-2016   \n",
       "\n",
       "   defaultViz                                         definition  \\\n",
       "0  line_chart  This reflects the global distance to frontier ...   \n",
       "1  line_chart  Foreign direct investment are the net inflows ...   \n",
       "2  line_chart  In your country, how easy is it for entreprene...   \n",
       "3  line_chart  Imports of goods and services represent the va...   \n",
       "4  line_chart  Annual percentage growth rate of GDP at market...   \n",
       "\n",
       "                                  doNotUseViz     id  \\\n",
       "0  [spider_chart, slope_graph, chord_diagram]  40001   \n",
       "1  [spider_chart, slope_graph, chord_diagram]   1541   \n",
       "2  [spider_chart, slope_graph, chord_diagram]    529   \n",
       "3  [spider_chart, slope_graph, chord_diagram]   1026   \n",
       "4  [spider_chart, slope_graph, chord_diagram]    940   \n",
       "\n",
       "                                                name periodicity   rank  \\\n",
       "0  Ease of Doing Business Global DTF (DB17-18 met...    annually  1.001   \n",
       "1  Foreign direct investment, net inflows (% of GDP)    annually  1.001   \n",
       "2           Venture capital availability, 1-7 (best)    annually  1.001   \n",
       "3        Imports of goods and services (current US$)    annually  1.001   \n",
       "4                              GDP growth (annual %)    annually  1.001   \n",
       "\n",
       "       subindicatorType                                         timeframes  \\\n",
       "0  Distance to Frontier                                 [2015, 2016, 2017]   \n",
       "1                 Value  [2016, 2015, 2014, 2013, 2012, 2011, 2010, 200...   \n",
       "2      Index 1-7 (best)  [2007-2008, 2008-2009, 2009-2010, 2010-2011, 2...   \n",
       "3                 Value  [2016, 2015, 2014, 2013, 2012, 2011, 2010, 200...   \n",
       "4                 Value  [2016, 2015, 2014, 2013, 2012, 2011, 2010, 200...   \n",
       "\n",
       "                  units valueType  \n",
       "0  Distance to Frontier       dtf  \n",
       "1              % of GDP     value  \n",
       "2      Index 1-7 (best)     value  \n",
       "3           Current US$     value  \n",
       "4              Annual %     value  "
      ]
     },
     "execution_count": 10,
     "metadata": {},
     "output_type": "execute_result"
    }
   ],
   "source": [
    "data_flat = json_normalize(data)\n",
    "data_flat[:5]"
   ]
  },
  {
   "cell_type": "code",
   "execution_count": 11,
   "metadata": {},
   "outputs": [],
   "source": [
    "data_flat.to_csv('indicators.csv', encoding='utf-8', index=False)"
   ]
  },
  {
   "cell_type": "code",
   "execution_count": 12,
   "metadata": {},
   "outputs": [
    {
     "data": {
      "text/plain": [
       "(3834, 17)"
      ]
     },
     "execution_count": 12,
     "metadata": {},
     "output_type": "execute_result"
    }
   ],
   "source": [
    "data_flat.shape"
   ]
  },
  {
   "cell_type": "code",
   "execution_count": null,
   "metadata": {},
   "outputs": [],
   "source": []
  }
 ],
 "metadata": {
  "kernelspec": {
   "display_name": "Python 3",
   "language": "python",
   "name": "python3"
  },
  "language_info": {
   "codemirror_mode": {
    "name": "ipython",
    "version": 3
   },
   "file_extension": ".py",
   "mimetype": "text/x-python",
   "name": "python",
   "nbconvert_exporter": "python",
   "pygments_lexer": "ipython3",
   "version": "3.6.5"
  }
 },
 "nbformat": 4,
 "nbformat_minor": 2
}
